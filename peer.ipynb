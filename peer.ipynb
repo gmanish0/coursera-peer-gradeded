{
  "metadata": {
    "language_info": {
      "codemirror_mode": {
        "name": "python",
        "version": 3
      },
      "file_extension": ".py",
      "mimetype": "text/x-python",
      "name": "python",
      "nbconvert_exporter": "python",
      "pygments_lexer": "ipython3",
      "version": "3.8"
    },
    "kernelspec": {
      "name": "python",
      "display_name": "Python (Pyodide)",
      "language": "python"
    }
  },
  "nbformat_minor": 4,
  "nbformat": 4,
  "cells": [
    {
      "cell_type": "code",
      "source": "#2.\n#This is my peer-graded assignment",
      "metadata": {
        "trusted": true
      },
      "execution_count": 1,
      "outputs": []
    },
    {
      "cell_type": "code",
      "source": "#3.\n#This course introduced us to multiple data science tools, and in this final project, you will use Jupyterlite Notebook,\n#one of the easiest tools to share publicly.",
      "metadata": {
        "trusted": true
      },
      "execution_count": 2,
      "outputs": []
    },
    {
      "cell_type": "code",
      "source": "#4.\n'''Data Science languages\n  0.Python.\n  1.R.\n  2.SQL.\n  3.Java.\n  4.Julia.\n  5.Scala.\n  6.C/C++.\n  7.JavaScript'''",
      "metadata": {
        "trusted": true
      },
      "execution_count": 7,
      "outputs": [
        {
          "execution_count": 7,
          "output_type": "execute_result",
          "data": {
            "text/plain": "'Data Science languages\\n 0.Python.\\n 1.R.\\n 2.SQL.\\n 3.Java.\\n 4.Julia.\\n 5.Scala.\\n 6.C/C++.\\n 7.JavaScript'"
          },
          "metadata": {}
        }
      ]
    },
    {
      "cell_type": "code",
      "source": "#5.\n'''\nCreate a markdown cell to list data science libraries.\n1.TensorFlow.\n2.NumPy.\n3.SciPy.\n4.Pandas.\n5.Matplotlib.\n6.Keras.\n8.7.SciKit-Learn.\n9.PyTorch.\n10.Scrapy.\n11.BeautifulSoup.'''",
      "metadata": {
        "trusted": true
      },
      "execution_count": 6,
      "outputs": [
        {
          "execution_count": 6,
          "output_type": "execute_result",
          "data": {
            "text/plain": "'\\nCreate a markdown cell to list data science libraries.\\n1.TensorFlow.\\n2.NumPy.\\n3.SciPy.\\n4.Pandas.\\n5.Matplotlib.\\n6.Keras.\\n8.7.SciKit-Learn.\\n9.PyTorch.\\n10.Scrapy.\\n11.BeautifulSoup.'"
          },
          "metadata": {}
        }
      ]
    },
    {
      "cell_type": "code",
      "source": "#6.\n'''Table of Data Science tools\n 1.Matlab\n 2.Apache Spark\n 3.SAS\n 4.Tableau'''\n\n",
      "metadata": {
        "trusted": true
      },
      "execution_count": 8,
      "outputs": [
        {
          "execution_count": 8,
          "output_type": "execute_result",
          "data": {
            "text/plain": "'Table of Data Science tools\\n 1.Matlab\\n 2.Apache Spark\\n 3.SAS\\n 4.Tableau'"
          },
          "metadata": {}
        }
      ]
    },
    {
      "cell_type": "code",
      "source": "#7. \n\n# Arithmetic operations\ncode = compile(\"5 + 4\", \"<string>\", \"eval\")\neval(code)\n #Result: 9",
      "metadata": {
        "trusted": true
      },
      "execution_count": 12,
      "outputs": [
        {
          "execution_count": 12,
          "output_type": "execute_result",
          "data": {
            "text/plain": "9"
          },
          "metadata": {}
        }
      ]
    },
    {
      "cell_type": "code",
      "source": "\n\ncode1 = compile(\"(5 + 7) * 2\", \"<string>\", \"eval\")\neval(code1)\n# Result: 24",
      "metadata": {
        "trusted": true
      },
      "execution_count": 13,
      "outputs": [
        {
          "execution_count": 13,
          "output_type": "execute_result",
          "data": {
            "text/plain": "24"
          },
          "metadata": {}
        }
      ]
    },
    {
      "cell_type": "code",
      "source": "\nimport math\n# Volume of a sphere\ncode2 = compile(\"4 / 3 * math.pi * math.pow(25, 3)\", \"<string>\", \"eval\")\neval(code2)\n# Result: 65449.84694978735",
      "metadata": {
        "trusted": true
      },
      "execution_count": 16,
      "outputs": [
        {
          "execution_count": 16,
          "output_type": "execute_result",
          "data": {
            "text/plain": "65449.84694978735"
          },
          "metadata": {}
        }
      ]
    },
    {
      "cell_type": "code",
      "source": "#8.\n(3*4)+5\n# Result: 17",
      "metadata": {
        "trusted": true
      },
      "execution_count": 17,
      "outputs": [
        {
          "execution_count": 17,
          "output_type": "execute_result",
          "data": {
            "text/plain": "17"
          },
          "metadata": {}
        }
      ]
    },
    {
      "cell_type": "code",
      "source": "#9\ndays = 0\nhours = 0\nmins = 0\n\ntime = 200\n#days = time / 1440\nleftover_minutes = time % 1440\nhours = leftover_minutes / 60\n#mins = time - (days*1440) - (hours*60)\nprint(str(days) + \" days, \" + str(hours) + \" hours, \" + str(mins) +  \" mins. \")\n\n# Result: 3.3333333333333335 hours",
      "metadata": {
        "trusted": true
      },
      "execution_count": 18,
      "outputs": [
        {
          "name": "stdout",
          "text": "0 days, 3.3333333333333335 hours, 0 mins. \n",
          "output_type": "stream"
        }
      ]
    },
    {
      "cell_type": "code",
      "source": "#10.\n'''Below the introduction cell created in Exercise 3, insert a new markdown cell to list the objectives that this notebook covered (i.e. some of the key takeaways from the course). \nIn this new cell start with an introductory line titled: Objectives: in bold font. \nThen using an unordered list (bullets) indicate 3 to 5 items covered in this notebook, such as List popular languages for Data Science.'''",
      "metadata": {
        "trusted": true
      },
      "execution_count": 20,
      "outputs": [
        {
          "execution_count": 20,
          "output_type": "execute_result",
          "data": {
            "text/plain": "'Below the introduction cell created in Exercise 3, insert a new markdown cell to list the objectives that this notebook covered (i.e. some of the key takeaways from the course). \\nIn this new cell start with an introductory line titled: Objectives: in bold font. \\nThen using an unordered list (bullets) indicate 3 to 5 items covered in this notebook, such as List popular languages for Data Science.'"
          },
          "metadata": {}
        }
      ]
    },
    {
      "cell_type": "code",
      "source": "#11\n'''Author's Name-\nMANISH GUPTA'''",
      "metadata": {},
      "execution_count": null,
      "outputs": []
    }
  ]
}